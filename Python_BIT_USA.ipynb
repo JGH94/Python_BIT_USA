{
  "nbformat": 4,
  "nbformat_minor": 0,
  "metadata": {
    "colab": {
      "provenance": [],
      "authorship_tag": "ABX9TyPsHpG50VCBc1buQYHROLhd",
      "include_colab_link": true
    },
    "kernelspec": {
      "name": "python3",
      "display_name": "Python 3"
    },
    "language_info": {
      "name": "python"
    }
  },
  "cells": [
    {
      "cell_type": "markdown",
      "metadata": {
        "id": "view-in-github",
        "colab_type": "text"
      },
      "source": [
        "<a href=\"https://colab.research.google.com/github/JGH94/Python_BIT_USA/blob/main/Python_BIT_USA.ipynb\" target=\"_parent\"><img src=\"https://colab.research.google.com/assets/colab-badge.svg\" alt=\"Open In Colab\"/></a>"
      ]
    },
    {
      "cell_type": "code",
      "execution_count": 21,
      "metadata": {
        "colab": {
          "base_uri": "https://localhost:8080/"
        },
        "id": "Tq3c5jp854Q8",
        "outputId": "492f45e0-7cea-4c5d-cbc8-97fc031969e5"
      },
      "outputs": [
        {
          "output_type": "stream",
          "name": "stdout",
          "text": [
            "[Errno 2] No such file or directory: 'book-materials'\n",
            "/content\n"
          ]
        }
      ],
      "source": [
        "%pushd book-materials\n",
        "# 참고 https://github.com/wesm/pydata-book\n",
        "# 셋팅\n",
        "from numpy.random import randn\n",
        "import numpy as np\n",
        "np.random.seed(123)\n",
        "import os\n",
        "import matplotlib.pyplot as plt\n",
        "import pandas as pd\n",
        "import json\n",
        "from collections import Counter\n",
        "\n",
        "plt.rc(\"figure\", figsize=(10, 6))\n",
        "np.set_printoptions(precision=4)\n",
        "pd.options.display.max_columns = 20\n",
        "pd.options.display.max_rows = 20\n",
        "pd.options.display.max_colwidth = 80"
      ]
    },
    {
      "cell_type": "code",
      "source": [
        "path = \"/content/sample_data/example.txt\" \n",
        "print(open(path).readline())\n",
        "records = [json.loads(line) for line in open(path)] # json 형태로 변환\n",
        "# 표준 시간대(tz)의 빈도를 구함\n",
        "time_tz = [rec['tz'] for rec in records if 'tz' in rec]\n",
        "print(time_tz[:10])\n",
        "# New_York 시간이 표준 시간대로 가장 많이 사용\n",
        "# 값이 존재하지 않는것이 521개 \n",
        "counts_ = Counter(time_tz) \n",
        "for x ,y in counts_.most_common(10):\n",
        "  print(x , y);"
      ],
      "metadata": {
        "colab": {
          "base_uri": "https://localhost:8080/"
        },
        "id": "5xlDunCq6j7Q",
        "outputId": "394f20a8-cd3c-43e8-d4fa-b18ccbf5da76"
      },
      "execution_count": 31,
      "outputs": [
        {
          "output_type": "stream",
          "name": "stdout",
          "text": [
            "{ \"a\": \"Mozilla\\/5.0 (Windows NT 6.1; WOW64) AppleWebKit\\/535.11 (KHTML, like Gecko) Chrome\\/17.0.963.78 Safari\\/535.11\", \"c\": \"US\", \"nk\": 1, \"tz\": \"America\\/New_York\", \"gr\": \"MA\", \"g\": \"A6qOVH\", \"h\": \"wfLQtf\", \"l\": \"orofrog\", \"al\": \"en-US,en;q=0.8\", \"hh\": \"1.usa.gov\", \"r\": \"http:\\/\\/www.facebook.com\\/l\\/7AQEFzjSi\\/1.usa.gov\\/wfLQtf\", \"u\": \"http:\\/\\/www.ncbi.nlm.nih.gov\\/pubmed\\/22415991\", \"t\": 1331923247, \"hc\": 1331822918, \"cy\": \"Danvers\", \"ll\": [ 42.576698, -70.954903 ] }\n",
            "\n",
            "['America/New_York', 'America/Denver', 'America/New_York', 'America/Sao_Paulo', 'America/New_York', 'America/New_York', 'Europe/Warsaw', '', '', '']\n",
            "America/New_York 1251\n",
            " 521\n",
            "America/Chicago 400\n",
            "America/Los_Angeles 382\n",
            "America/Denver 191\n",
            "Europe/London 74\n",
            "Asia/Tokyo 37\n",
            "Pacific/Honolulu 36\n",
            "Europe/Madrid 35\n",
            "America/Sao_Paulo 33\n"
          ]
        }
      ]
    },
    {
      "cell_type": "code",
      "source": [
        "# 간단한 방법\n",
        "data_ = pd.DataFrame(records)\n",
        "data_.info()\n",
        "print('-----------------------------')\n",
        "print(data_['tz'].value_counts())"
      ],
      "metadata": {
        "colab": {
          "base_uri": "https://localhost:8080/"
        },
        "id": "R3ITqL7RHsw3",
        "outputId": "c10de2b4-3893-4d01-fc57-2d2fb5aba63b"
      },
      "execution_count": 36,
      "outputs": [
        {
          "output_type": "stream",
          "name": "stdout",
          "text": [
            "<class 'pandas.core.frame.DataFrame'>\n",
            "RangeIndex: 3560 entries, 0 to 3559\n",
            "Data columns (total 18 columns):\n",
            " #   Column       Non-Null Count  Dtype  \n",
            "---  ------       --------------  -----  \n",
            " 0   a            3440 non-null   object \n",
            " 1   c            2919 non-null   object \n",
            " 2   nk           3440 non-null   float64\n",
            " 3   tz           3440 non-null   object \n",
            " 4   gr           2919 non-null   object \n",
            " 5   g            3440 non-null   object \n",
            " 6   h            3440 non-null   object \n",
            " 7   l            3440 non-null   object \n",
            " 8   al           3094 non-null   object \n",
            " 9   hh           3440 non-null   object \n",
            " 10  r            3440 non-null   object \n",
            " 11  u            3440 non-null   object \n",
            " 12  t            3440 non-null   float64\n",
            " 13  hc           3440 non-null   float64\n",
            " 14  cy           2919 non-null   object \n",
            " 15  ll           2919 non-null   object \n",
            " 16  _heartbeat_  120 non-null    float64\n",
            " 17  kw           93 non-null     object \n",
            "dtypes: float64(4), object(14)\n",
            "memory usage: 500.8+ KB\n",
            "-----------------------------\n",
            "America/New_York        1251\n",
            "                         521\n",
            "America/Chicago          400\n",
            "America/Los_Angeles      382\n",
            "America/Denver           191\n",
            "                        ... \n",
            "Europe/Uzhgorod            1\n",
            "Australia/Queensland       1\n",
            "Europe/Sofia               1\n",
            "America/Costa_Rica         1\n",
            "America/Tegucigalpa        1\n",
            "Name: tz, Length: 97, dtype: int64\n"
          ]
        }
      ]
    },
    {
      "cell_type": "code",
      "source": [
        "# 없는 값의 Column을 Unknown으로 설정하고\n",
        "# 데이터 시각화 \n",
        "new_data= data_['tz'].fillna('Missing')\n",
        "new_data[new_data == ''] = 'Unknown'\n",
        "new_data_count = new_data.value_counts() \n",
        "X_ = []\n",
        "Y_ = []\n",
        "for x,y in new_data_count[:10].items():\n",
        "  X_.append(x)\n",
        "  Y_.append(y)  \n",
        "x = np.arange(10)\n",
        "title_font = {\n",
        "    'fontsize': 16,\n",
        "    'fontweight': 'bold'\n",
        "}\n",
        "plt.barh(x, Y_, height = 0.5)  \n",
        "plt.title('Time Value Data Set ', fontdict=title_font, loc='left', pad=10)\n",
        "plt.yticks(x, X_)"
      ],
      "metadata": {
        "colab": {
          "base_uri": "https://localhost:8080/",
          "height": 743
        },
        "id": "Mlqnx-s8Kjfo",
        "outputId": "132038c9-f456-4190-9fa6-71afffafa8d6"
      },
      "execution_count": 65,
      "outputs": [
        {
          "output_type": "execute_result",
          "data": {
            "text/plain": [
              "([<matplotlib.axis.YTick at 0x7fd4b2577350>,\n",
              "  <matplotlib.axis.YTick at 0x7fd4b25eb9d0>,\n",
              "  <matplotlib.axis.YTick at 0x7fd4b256e1d0>,\n",
              "  <matplotlib.axis.YTick at 0x7fd4b24c4890>,\n",
              "  <matplotlib.axis.YTick at 0x7fd4b24c4dd0>,\n",
              "  <matplotlib.axis.YTick at 0x7fd4b24cc050>,\n",
              "  <matplotlib.axis.YTick at 0x7fd4b24cc750>,\n",
              "  <matplotlib.axis.YTick at 0x7fd4b24ccc90>,\n",
              "  <matplotlib.axis.YTick at 0x7fd4b24d4290>,\n",
              "  <matplotlib.axis.YTick at 0x7fd4b24d4750>],\n",
              " [Text(0, 0, 'America/New_York'),\n",
              "  Text(0, 0, 'Unknown'),\n",
              "  Text(0, 0, 'America/Chicago'),\n",
              "  Text(0, 0, 'America/Los_Angeles'),\n",
              "  Text(0, 0, 'America/Denver'),\n",
              "  Text(0, 0, 'Missing'),\n",
              "  Text(0, 0, 'Europe/London'),\n",
              "  Text(0, 0, 'Asia/Tokyo'),\n",
              "  Text(0, 0, 'Pacific/Honolulu'),\n",
              "  Text(0, 0, 'Europe/Madrid')])"
            ]
          },
          "metadata": {},
          "execution_count": 65
        },
        {
          "output_type": "display_data",
          "data": {
            "text/plain": [
              "<Figure size 720x432 with 1 Axes>"
            ],
            "image/png": "[encoded data removed]"
          },
          "metadata": {
            "needs_background": "light"
          }
        }
      ]
    },
    {
      "cell_type": "code",
      "source": [
        "# 사용자 브라우저, 단말기, 애플리케이션 정보\n",
        "print(data_['a'][50])\n",
        "print(data_['a'][1])\n",
        "print(data_['a'][51])\n",
        "print('----------------------------------------------------')\n",
        "data_set = pd.Series([x.split()[0] for x in data_.a.dropna()])\n",
        "print(data_set.value_counts())\n",
        "new_data_count = data_set.value_counts()  \n",
        "X_ = []\n",
        "Y_ = []\n",
        "for x,y in new_data_count[:10].items():\n",
        "  X_.append(x)\n",
        "  Y_.append(y)  \n",
        "x = np.arange(10)\n",
        "title_font = {\n",
        "    'fontsize': 16,\n",
        "    'fontweight': 'bold'\n",
        "}\n",
        "plt.barh(x, Y_, height = 0.5)  \n",
        "plt.title('User Use Info ', fontdict=title_font, loc='left', pad=10)\n",
        "plt.yticks(x, X_)"
      ],
      "metadata": {
        "colab": {
          "base_uri": "https://localhost:8080/",
          "height": 1000
        },
        "id": "ObaYAujeUz8Y",
        "outputId": "dfcc72c2-f0a3-4aeb-a24a-0619e26295ee"
      },
      "execution_count": 85,
      "outputs": [
        {
          "output_type": "stream",
          "name": "stdout",
          "text": [
            "Mozilla/5.0 (Windows NT 5.1; rv:10.0.2) Gecko/20100101 Firefox/10.0.2\n",
            "GoogleMaps/RochesterNY\n",
            "Mozilla/5.0 (Linux; U; Android 2.2.2; en-us; LG-P925/V10e Build/FRG83G) AppleWebKit/533.1 (KHTML, like Gecko) Version/4.0 Mobile Safari/533.1\n",
            "----------------------------------------------------\n",
            "Mozilla/5.0                   2594\n",
            "Mozilla/4.0                    601\n",
            "GoogleMaps/RochesterNY         121\n",
            "Opera/9.80                      34\n",
            "TEST_INTERNET_AGENT             24\n",
            "                              ... \n",
            "SAMSUNG-SGH-A887/A887UCIJ1       1\n",
            "BlackBerry9530/5.0.0.328         1\n",
            "BlackBerry8520/5.0.0.1067        1\n",
            "NokiaC3-00/5.0                   1\n",
            "BlackBerry9700/5.0.0.862         1\n",
            "Length: 36, dtype: int64\n"
          ]
        },
        {
          "output_type": "execute_result",
          "data": {
            "text/plain": [
              "([<matplotlib.axis.YTick at 0x7fd4b2d496d0>,\n",
              "  <matplotlib.axis.YTick at 0x7fd4b3385390>,\n",
              "  <matplotlib.axis.YTick at 0x7fd4b2ca6ed0>,\n",
              "  <matplotlib.axis.YTick at 0x7fd4b2672cd0>,\n",
              "  <matplotlib.axis.YTick at 0x7fd4b2a275d0>,\n",
              "  <matplotlib.axis.YTick at 0x7fd4b2577b50>,\n",
              "  <matplotlib.axis.YTick at 0x7fd4b2577b10>,\n",
              "  <matplotlib.axis.YTick at 0x7fd4b3378310>,\n",
              "  <matplotlib.axis.YTick at 0x7fd4b255e890>,\n",
              "  <matplotlib.axis.YTick at 0x7fd4b2672d10>],\n",
              " [Text(0, 0, 'Mozilla/5.0'),\n",
              "  Text(0, 0, 'Mozilla/4.0'),\n",
              "  Text(0, 0, 'GoogleMaps/RochesterNY'),\n",
              "  Text(0, 0, 'Opera/9.80'),\n",
              "  Text(0, 0, 'TEST_INTERNET_AGENT'),\n",
              "  Text(0, 0, 'GoogleProducer'),\n",
              "  Text(0, 0, 'Mozilla/6.0'),\n",
              "  Text(0, 0, 'BlackBerry8520/5.0.0.681'),\n",
              "  Text(0, 0, 'BlackBerry8520/5.0.0.592'),\n",
              "  Text(0, 0, 'Dalvik/1.4.0')])"
            ]
          },
          "metadata": {},
          "execution_count": 85
        },
        {
          "output_type": "display_data",
          "data": {
            "text/plain": [
              "<Figure size 720x432 with 1 Axes>"
            ],
            "image/png": "[encoded data removed]"
          },
          "metadata": {
            "needs_background": "light"
          }
        }
      ]
    },
    {
      "cell_type": "code",
      "source": [
        "# os Windows 사용 여부 확인\n",
        "os_data = data_[data_.a.notnull()] \n",
        "os_data['os'] = np.where(os_data['a'].str.contains('Windows'),'Windows', 'NotWindows')  \n",
        "# 운영시간대, 운영체제 기준\n",
        "by_tz_os = os_data.groupby(['tz','os']) \n",
        "use_data = by_tz_os.size().unstack().fillna(0)\n",
        "print(use_data[:10])\n",
        "print('----------------------------------------------------------------')\n",
        "# 전체 표준시간대 순위\n",
        "indexer = use_data.sum(1).argsort()\n",
        "print(indexer[:10])\n",
        "print('----------------------------------------------------------------')\n",
        "# 정렬을 해볼까\n",
        "count_sub = use_data.take(indexer[-10:])\n",
        "print(count_sub[:10])\n",
        "use_data.sum(1).nlargest(10)"
      ],
      "metadata": {
        "colab": {
          "base_uri": "https://localhost:8080/"
        },
        "id": "yGe5YCGLXwEy",
        "outputId": "02108a68-047d-4cc7-9ca7-5cdd9c2403af"
      },
      "execution_count": 116,
      "outputs": [
        {
          "output_type": "stream",
          "name": "stdout",
          "text": [
            "os                              NotWindows  Windows\n",
            "tz                                                 \n",
            "                                     245.0    276.0\n",
            "Africa/Cairo                           0.0      3.0\n",
            "Africa/Casablanca                      0.0      1.0\n",
            "Africa/Ceuta                           0.0      2.0\n",
            "Africa/Johannesburg                    0.0      1.0\n",
            "Africa/Lusaka                          0.0      1.0\n",
            "America/Anchorage                      4.0      1.0\n",
            "America/Argentina/Buenos_Aires         1.0      0.0\n",
            "America/Argentina/Cordoba              0.0      1.0\n",
            "America/Argentina/Mendoza              0.0      1.0\n",
            "----------------------------------------------------------------\n",
            "tz\n",
            "                                  24\n",
            "Africa/Cairo                      20\n",
            "Africa/Casablanca                 21\n",
            "Africa/Ceuta                      92\n",
            "Africa/Johannesburg               87\n",
            "Africa/Lusaka                     53\n",
            "America/Anchorage                 54\n",
            "America/Argentina/Buenos_Aires    57\n",
            "America/Argentina/Cordoba         26\n",
            "America/Argentina/Mendoza         55\n",
            "dtype: int64\n",
            "----------------------------------------------------------------\n",
            "os                   NotWindows  Windows\n",
            "tz                                      \n",
            "America/Sao_Paulo          13.0     20.0\n",
            "Europe/Madrid              16.0     19.0\n",
            "Pacific/Honolulu            0.0     36.0\n",
            "Asia/Tokyo                  2.0     35.0\n",
            "Europe/London              43.0     31.0\n",
            "America/Denver            132.0     59.0\n",
            "America/Los_Angeles       130.0    252.0\n",
            "America/Chicago           115.0    285.0\n",
            "                          245.0    276.0\n",
            "America/New_York          339.0    912.0\n"
          ]
        },
        {
          "output_type": "stream",
          "name": "stderr",
          "text": [
            "/usr/local/lib/python3.7/dist-packages/ipykernel_launcher.py:3: SettingWithCopyWarning: \n",
            "A value is trying to be set on a copy of a slice from a DataFrame.\n",
            "Try using .loc[row_indexer,col_indexer] = value instead\n",
            "\n",
            "See the caveats in the documentation: https://pandas.pydata.org/pandas-docs/stable/user_guide/indexing.html#returning-a-view-versus-a-copy\n",
            "  This is separate from the ipykernel package so we can avoid doing imports until\n"
          ]
        },
        {
          "output_type": "execute_result",
          "data": {
            "text/plain": [
              "tz\n",
              "America/New_York       1251.0\n",
              "                        521.0\n",
              "America/Chicago         400.0\n",
              "America/Los_Angeles     382.0\n",
              "America/Denver          191.0\n",
              "Europe/London            74.0\n",
              "Asia/Tokyo               37.0\n",
              "Pacific/Honolulu         36.0\n",
              "Europe/Madrid            35.0\n",
              "America/Sao_Paulo        33.0\n",
              "dtype: float64"
            ]
          },
          "metadata": {},
          "execution_count": 116
        }
      ]
    }
  ]
}